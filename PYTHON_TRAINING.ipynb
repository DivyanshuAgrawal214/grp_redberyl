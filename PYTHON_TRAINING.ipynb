{
  "nbformat": 4,
  "nbformat_minor": 0,
  "metadata": {
    "colab": {
      "provenance": []
    },
    "kernelspec": {
      "name": "python3",
      "display_name": "Python 3"
    },
    "language_info": {
      "name": "python"
    }
  },
  "cells": [
    {
      "cell_type": "code",
      "execution_count": null,
      "metadata": {
        "id": "v_jvG_zJkb4q"
      },
      "outputs": [],
      "source": [
        "\"\"\"Violation of SINGLE RESPONSIBILITY PRINCIPLE\"\"\"\n",
        "class Report:\n",
        "    def __init__(self,title,content):\n",
        "        self.title = title\n",
        "        self.content = content\n",
        "    def GenerateReport(self,format_specifier):\n",
        "        #logic for report generation\n",
        "        pass\n",
        "    def save_as_file(self,file):\n",
        "        #logic for file saving\n",
        "        pass\n",
        "    def send_email(self,email):\n",
        "        #logic for sending email\n",
        "        pass\n"
      ]
    },
    {
      "cell_type": "code",
      "source": [
        "\"\"\"IMPLIMENTATION of SINGLE RESPONSIBILITY PRINCIPLE\"\"\"\n",
        "class Report:\n",
        "    def __init__(self,title,content):\n",
        "        self.title = title\n",
        "        self.content = content\n",
        "\n",
        "    def GenerateReport(self,format_specifier):\n",
        "        #logic for report generation\n",
        "        pass\n",
        "class saveFile:\n",
        "    def save_as_file(self,file):\n",
        "        #logic for file saving\n",
        "        pass\n",
        "class sendEmail:\n",
        "    def send_email(self,email):\n",
        "        #logic for sending email\n",
        "        pass\n",
        "\n",
        "\n"
      ],
      "metadata": {
        "id": "dSUEs4XRleZt"
      },
      "execution_count": null,
      "outputs": []
    }
  ]
}